{
  "nbformat": 4,
  "nbformat_minor": 0,
  "metadata": {
    "colab": {
      "name": "dataMining_preProcessing.ipynb",
      "provenance": [],
      "authorship_tag": "ABX9TyNXePtYaB2LNVWJT9H6ZBc+",
      "include_colab_link": true
    },
    "kernelspec": {
      "name": "python3",
      "display_name": "Python 3"
    }
  },
  "cells": [
    {
      "cell_type": "markdown",
      "metadata": {
        "id": "view-in-github",
        "colab_type": "text"
      },
      "source": [
        "<a href=\"https://colab.research.google.com/github/michaelchapa/dataMining_data_preprocessing/blob/master/dataMining_preProcessing.ipynb\" target=\"_parent\"><img src=\"https://colab.research.google.com/assets/colab-badge.svg\" alt=\"Open In Colab\"/></a>"
      ]
    },
    {
      "cell_type": "markdown",
      "metadata": {
        "id": "r-jrUx8eyAvJ",
        "colab_type": "text"
      },
      "source": [
        "<h1>Pre-Processing Data</h1>\n",
        "<p>Read data from the provided CSV file into a DataFrame. The file has 6 columns: <code>[A, B, C, D, E, F].</code></p>\n",
        "<p><code>A, B</code> are <b>categorical</b>.</p>\n",
        "<p><code>C, D, E, F</code> are <b>numerical</b>.</p>\n"
      ]
    },
    {
      "cell_type": "code",
      "metadata": {
        "id": "IJJLWZDXx1rF",
        "colab_type": "code",
        "colab": {}
      },
      "source": [
        "import pandas as pd\n",
        "import numpy as np\n",
        "from sklearn.decomposition import PCA\n",
        "from scipy import stats\n",
        "\n",
        "data = pd.read_csv('https://raw.githubusercontent.com/michaelchapa' \\\n",
        "                   '/dataMining_data_preprocessing/master/hwk01.csv')\n",
        "\n",
        "numericalFeatures = data[data.columns[3:]] # remove redundant index column\n",
        "nominalFeatures = data[data.columns[1:3]]"
      ],
      "execution_count": 1,
      "outputs": []
    },
    {
      "cell_type": "markdown",
      "metadata": {
        "id": "bsuTGiW10NxY",
        "colab_type": "text"
      },
      "source": [
        "<h2>Mean</h2>"
      ]
    },
    {
      "cell_type": "code",
      "metadata": {
        "id": "n1ANcdb80Oba",
        "colab_type": "code",
        "colab": {}
      },
      "source": [
        "def bin_Means(data, depth):\n",
        "    data = data['F'] # Creates Series\n",
        "    data = data.sort_values()\n",
        "    \n",
        "    binValues, binEdges = pd.cut(data.array, bins = depth, \\\n",
        "                                 labels = range(1, depth + 1), retbins = True)\n",
        "        \n",
        "    print(\"The respective bin for each value of attribute: \\n\", set(binValues), \"\\n\")\n",
        "    print(\"Computed bins: \\n\", binEdges, \"\\n\")\n",
        "    \n",
        "    binnedValues = pd.DataFrame( \\\n",
        "                   list(zip(data, binValues)), columns = ['value', 'bin'])\n",
        "    binnedValuesMean = binnedValues.groupby(['bin']).mean()\n",
        "    print(\"Mean value for each value in bin: \\n\", binnedValuesMean, \"\\n\\n\")"
      ],
      "execution_count": null,
      "outputs": []
    },
    {
      "cell_type": "markdown",
      "metadata": {
        "id": "e2K9jMUc_NFb",
        "colab_type": "text"
      },
      "source": [
        "<h4>Quartile example:</h4>"
      ]
    },
    {
      "cell_type": "code",
      "metadata": {
        "id": "o15-_eaT_NqL",
        "colab_type": "code",
        "colab": {}
      },
      "source": [
        "bin_Means(numericalFeatures, 4) # k = 4, 10, 50"
      ],
      "execution_count": null,
      "outputs": []
    },
    {
      "cell_type": "markdown",
      "metadata": {
        "id": "e4zoSHNW0Xlm",
        "colab_type": "text"
      },
      "source": [
        "<h4>K = 100 example:</h4>"
      ]
    },
    {
      "cell_type": "code",
      "metadata": {
        "id": "9UoI6R5dAA5a",
        "colab_type": "code",
        "colab": {}
      },
      "source": [
        "bin_Means(numericalFeatures, 100)"
      ],
      "execution_count": null,
      "outputs": []
    },
    {
      "cell_type": "markdown",
      "metadata": {
        "id": "hSpBshgHABfc",
        "colab_type": "text"
      },
      "source": [
        "<h2>Boundaries</h2>"
      ]
    },
    {
      "cell_type": "code",
      "metadata": {
        "id": "wVHbkuqM0VIh",
        "colab_type": "code",
        "colab": {}
      },
      "source": [
        "def bin_Boundaries(data, depth):\n",
        "    data = data['E']\n",
        "    data = data.sort_values()\n",
        "    \n",
        "    binValues, binEdges = pd.cut(data.array, bins = depth, \\\n",
        "                                 labels = range(1, depth + 1), retbins = True)\n",
        "    \n",
        "    print(\"The respective bin for each value of attribute: \\n\", set(binValues), \"\\n\")\n",
        "    print(\"The computed specified bins: \\n\", binEdges, \"\\n\")\n",
        "    \n",
        "    binnedValues = pd.DataFrame( \\\n",
        "                   list(zip(data, binValues)), columns = ['value', 'bin'])\n",
        "    \n",
        "    for index, observation in binnedValues.iterrows():\n",
        "        value = observation[0].tolist()\n",
        "        minDistance = 999999999\n",
        "        leastDistant = 0\n",
        "        \n",
        "        for edge in binEdges:\n",
        "            edge = edge.tolist()\n",
        "            distance = abs(edge - value)\n",
        "            if distance < minDistance:\n",
        "                leastDistant = edge\n",
        "                minDistance = distance\n",
        "                \n",
        "        # set value at dataframe\n",
        "        binnedValues.at[index, 'value'] = leastDistant\n",
        "        \n",
        "    print(binnedValues)"
      ],
      "execution_count": 4,
      "outputs": []
    },
    {
      "cell_type": "markdown",
      "metadata": {
        "id": "lrFuPj4OCiZh",
        "colab_type": "text"
      },
      "source": [
        "<h4>Quartile Example</h4>"
      ]
    },
    {
      "cell_type": "code",
      "metadata": {
        "id": "2D99FMIlCl-n",
        "colab_type": "code",
        "colab": {
          "base_uri": "https://localhost:8080/",
          "height": 357
        },
        "outputId": "25d10329-f9fe-474c-838b-19f2e2e54fe0"
      },
      "source": [
        "bin_Boundaries(numericalFeatures, 4)"
      ],
      "execution_count": 5,
      "outputs": [
        {
          "output_type": "stream",
          "text": [
            "The respective bin for each value of attribute: \n",
            " {1, 2, 3, 4} \n",
            "\n",
            "The computed specified bins: \n",
            " [-16.5662972    1.30530452  19.10570464  36.90610475  54.70650487] \n",
            "\n",
            "         value  bin\n",
            "0   -16.566297    1\n",
            "1   -16.566297    1\n",
            "2   -16.566297    1\n",
            "3   -16.566297    1\n",
            "4   -16.566297    1\n",
            "..         ...  ...\n",
            "995  36.906105    4\n",
            "996  36.906105    4\n",
            "997  36.906105    4\n",
            "998  36.906105    4\n",
            "999  54.706505    4\n",
            "\n",
            "[1000 rows x 2 columns]\n"
          ],
          "name": "stdout"
        }
      ]
    },
    {
      "cell_type": "markdown",
      "metadata": {
        "id": "1v5pEl04Cm6s",
        "colab_type": "text"
      },
      "source": [
        "<h4>K = 100</h4>"
      ]
    },
    {
      "cell_type": "code",
      "metadata": {
        "id": "tgZn0WK3CxPI",
        "colab_type": "code",
        "colab": {
          "base_uri": "https://localhost:8080/",
          "height": 717
        },
        "outputId": "ea610556-d5fd-4bb0-b438-78b07af981a1"
      },
      "source": [
        "bin_Boundaries(numericalFeatures, 100)"
      ],
      "execution_count": 6,
      "outputs": [
        {
          "output_type": "stream",
          "text": [
            "The respective bin for each value of attribute: \n",
            " {1, 6, 8, 9, 10, 11, 12, 13, 14, 15, 16, 17, 18, 19, 20, 21, 22, 23, 24, 25, 26, 27, 28, 29, 30, 31, 32, 33, 34, 35, 36, 37, 38, 39, 40, 41, 42, 43, 44, 45, 46, 47, 48, 49, 50, 51, 52, 53, 54, 55, 56, 57, 58, 59, 60, 61, 62, 63, 64, 65, 66, 67, 68, 69, 70, 71, 72, 73, 74, 75, 77, 78, 79, 80, 81, 84, 85, 86, 100} \n",
            "\n",
            "The computed specified bins: \n",
            " [-16.5662972  -15.78307959 -15.07106359 -14.35904758 -13.64703158\n",
            " -12.93501558 -12.22299957 -11.51098357 -10.79896756 -10.08695156\n",
            "  -9.37493555  -8.66291955  -7.95090354  -7.23888754  -6.52687153\n",
            "  -5.81485553  -5.10283952  -4.39082352  -3.67880751  -2.96679151\n",
            "  -2.25477551  -1.5427595   -0.8307435   -0.11872749   0.59328851\n",
            "   1.30530452   2.01732052   2.72933653   3.44135253   4.15336854\n",
            "   4.86538454   5.57740055   6.28941655   7.00143256   7.71344856\n",
            "   8.42546457   9.13748057   9.84949657  10.56151258  11.27352858\n",
            "  11.98554459  12.69756059  13.4095766   14.1215926   14.83360861\n",
            "  15.54562461  16.25764062  16.96965662  17.68167263  18.39368863\n",
            "  19.10570464  19.81772064  20.52973664  21.24175265  21.95376865\n",
            "  22.66578466  23.37780066  24.08981667  24.80183267  25.51384868\n",
            "  26.22586468  26.93788069  27.64989669  28.3619127   29.0739287\n",
            "  29.78594471  30.49796071  31.20997672  31.92199272  32.63400872\n",
            "  33.34602473  34.05804073  34.77005674  35.48207274  36.19408875\n",
            "  36.90610475  37.61812076  38.33013676  39.04215277  39.75416877\n",
            "  40.46618478  41.17820078  41.89021679  42.60223279  43.31424879\n",
            "  44.0262648   44.7382808   45.45029681  46.16231281  46.87432882\n",
            "  47.58634482  48.29836083  49.01037683  49.72239284  50.43440884\n",
            "  51.14642485  51.85844085  52.57045686  53.28247286  53.99448887\n",
            "  54.70650487] \n",
            "\n",
            "         value  bin\n",
            "0   -16.566297    1\n",
            "1   -16.566297    1\n",
            "2   -12.935016    6\n",
            "3   -11.510984    8\n",
            "4   -10.798968    9\n",
            "..         ...  ...\n",
            "995  40.466185   81\n",
            "996  43.314249   84\n",
            "997  43.314249   85\n",
            "998  44.026265   86\n",
            "999  54.706505  100\n",
            "\n",
            "[1000 rows x 2 columns]\n"
          ],
          "name": "stdout"
        }
      ]
    },
    {
      "cell_type": "markdown",
      "metadata": {
        "id": "Ti84awoyC0Fu",
        "colab_type": "text"
      },
      "source": [
        "<h2>Median</h2>"
      ]
    },
    {
      "cell_type": "code",
      "metadata": {
        "id": "pNOMQ6zADGl9",
        "colab_type": "code",
        "colab": {}
      },
      "source": [
        "def bin_Medians(data, depth):\n",
        "    data = data['F'] # Creates Series\n",
        "    data = data.sort_values()\n",
        "    \n",
        "    binValues, binEdges = pd.cut(data.array, bins = depth, \\\n",
        "                labels = range(1, depth + 1), retbins = True)\n",
        "        \n",
        "    print(\"The respective bin for each value of attribute: \\n\", set(binValues), \"\\n\")\n",
        "    print(\"The computed specified bins: \\n\", binEdges, \"\\n\")\n",
        "    \n",
        "    binnedValues = pd.DataFrame( \\\n",
        "                   list(zip(data, binValues)), columns = ['value', 'bin'])\n",
        "    binnedValuesMedian = binnedValues.groupby(['bin']).median()\n",
        "    print(\"Median value for each value in bin: \\n\", binnedValuesMedian, \"\\n\\n\")"
      ],
      "execution_count": 7,
      "outputs": []
    },
    {
      "cell_type": "markdown",
      "metadata": {
        "id": "kdDud-CxDHTL",
        "colab_type": "text"
      },
      "source": [
        "<h4>Quartile Example</h4>"
      ]
    },
    {
      "cell_type": "code",
      "metadata": {
        "id": "6WJSg2Su0at8",
        "colab_type": "code",
        "colab": {
          "base_uri": "https://localhost:8080/",
          "height": 272
        },
        "outputId": "5f5a25e6-3bc7-4536-b30f-28cf0d2c4ec8"
      },
      "source": [
        "bin_Medians(numericalFeatures, 4)"
      ],
      "execution_count": 8,
      "outputs": [
        {
          "output_type": "stream",
          "text": [
            "The respective bin for each value of attribute: \n",
            " {1, 2, 3, 4} \n",
            "\n",
            "The computed specified bins: \n",
            " [ 0.99  3.5   6.    8.5  11.  ] \n",
            "\n",
            "Median value for each value in bin: \n",
            "      value\n",
            "bin       \n",
            "1        2\n",
            "2        5\n",
            "3        7\n",
            "4       10 \n",
            "\n",
            "\n"
          ],
          "name": "stdout"
        }
      ]
    },
    {
      "cell_type": "markdown",
      "metadata": {
        "id": "26xS2P7WDQg7",
        "colab_type": "text"
      },
      "source": [
        "<h4>K = 100</h4>"
      ]
    },
    {
      "cell_type": "code",
      "metadata": {
        "id": "vvkPFyeVDQ35",
        "colab_type": "code",
        "colab": {
          "base_uri": "https://localhost:8080/",
          "height": 527
        },
        "outputId": "41879155-eaa9-49bc-e548-42cd618efde6"
      },
      "source": [
        "bin_Medians(numericalFeatures, 100)"
      ],
      "execution_count": 9,
      "outputs": [
        {
          "output_type": "stream",
          "text": [
            "The respective bin for each value of attribute: \n",
            " {1, 100, 70, 40, 10, 80, 50, 20, 90, 60, 30} \n",
            "\n",
            "The computed specified bins: \n",
            " [ 0.99  1.1   1.2   1.3   1.4   1.5   1.6   1.7   1.8   1.9   2.    2.1\n",
            "  2.2   2.3   2.4   2.5   2.6   2.7   2.8   2.9   3.    3.1   3.2   3.3\n",
            "  3.4   3.5   3.6   3.7   3.8   3.9   4.    4.1   4.2   4.3   4.4   4.5\n",
            "  4.6   4.7   4.8   4.9   5.    5.1   5.2   5.3   5.4   5.5   5.6   5.7\n",
            "  5.8   5.9   6.    6.1   6.2   6.3   6.4   6.5   6.6   6.7   6.8   6.9\n",
            "  7.    7.1   7.2   7.3   7.4   7.5   7.6   7.7   7.8   7.9   8.    8.1\n",
            "  8.2   8.3   8.4   8.5   8.6   8.7   8.8   8.9   9.    9.1   9.2   9.3\n",
            "  9.4   9.5   9.6   9.7   9.8   9.9  10.   10.1  10.2  10.3  10.4  10.5\n",
            " 10.6  10.7  10.8  10.9  11.  ] \n",
            "\n",
            "Median value for each value in bin: \n",
            "      value\n",
            "bin       \n",
            "1        1\n",
            "10       2\n",
            "20       3\n",
            "30       4\n",
            "40       5\n",
            "50       6\n",
            "60       7\n",
            "70       8\n",
            "80       9\n",
            "90      10\n",
            "100     11 \n",
            "\n",
            "\n"
          ],
          "name": "stdout"
        }
      ]
    },
    {
      "cell_type": "markdown",
      "metadata": {
        "id": "5LSKl-4W0dPK",
        "colab_type": "text"
      },
      "source": [
        ""
      ]
    },
    {
      "cell_type": "code",
      "metadata": {
        "id": "Cun4y3pE0duI",
        "colab_type": "code",
        "colab": {}
      },
      "source": [
        "pcaAnalysis(numericalFeatures, ['C', 'D', 'E', 'F'], 2)"
      ],
      "execution_count": null,
      "outputs": []
    },
    {
      "cell_type": "markdown",
      "metadata": {
        "id": "XakFZHzW0gs_",
        "colab_type": "text"
      },
      "source": [
        ""
      ]
    },
    {
      "cell_type": "code",
      "metadata": {
        "id": "ZTo8SoUg0hJ7",
        "colab_type": "code",
        "colab": {}
      },
      "source": [
        "calculate_correlation(numericalFeatures)"
      ],
      "execution_count": null,
      "outputs": []
    },
    {
      "cell_type": "markdown",
      "metadata": {
        "id": "kDzBJr310kj7",
        "colab_type": "text"
      },
      "source": [
        ""
      ]
    },
    {
      "cell_type": "code",
      "metadata": {
        "id": "UhDLfhcx0lf3",
        "colab_type": "code",
        "colab": {}
      },
      "source": [
        "construct_contingency_table(nominalFeatures)"
      ],
      "execution_count": null,
      "outputs": []
    }
  ]
}
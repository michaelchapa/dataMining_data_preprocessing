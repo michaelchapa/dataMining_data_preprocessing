{
  "nbformat": 4,
  "nbformat_minor": 0,
  "metadata": {
    "colab": {
      "name": "dataMining_preProcessing.ipynb",
      "provenance": [],
      "authorship_tag": "ABX9TyNjmzkghxzBmXYeGnXYWPVo",
      "include_colab_link": true
    },
    "kernelspec": {
      "name": "python3",
      "display_name": "Python 3"
    }
  },
  "cells": [
    {
      "cell_type": "markdown",
      "metadata": {
        "id": "view-in-github",
        "colab_type": "text"
      },
      "source": [
        "<a href=\"https://colab.research.google.com/github/michaelchapa/dataMining_data_preprocessing/blob/master/dataMining_preProcessing.ipynb\" target=\"_parent\"><img src=\"https://colab.research.google.com/assets/colab-badge.svg\" alt=\"Open In Colab\"/></a>"
      ]
    },
    {
      "cell_type": "markdown",
      "metadata": {
        "id": "r-jrUx8eyAvJ",
        "colab_type": "text"
      },
      "source": [
        "<h1>Pre-Processing Data</h1>\n",
        "<p>Read data from the provided CSV file into a DataFrame. The file has 6 columns: <code>[A, B, C, D, E, F].</code></p>\n",
        "<p><code>A, B</code> are <b>categorical</b>.</p>\n",
        "<p><code>C, D, E, F</code> are <b>numerical</b>.</p>\n"
      ]
    },
    {
      "cell_type": "code",
      "metadata": {
        "id": "IJJLWZDXx1rF",
        "colab_type": "code",
        "colab": {}
      },
      "source": [
        "import pandas as pd\n",
        "import numpy as np\n",
        "from sklearn.decomposition import PCA\n",
        "from scipy import stats\n",
        "\n",
        "data = pd.read_csv('https://raw.githubusercontent.com/michaelchapa' \\\n",
        "                   '/dataMining_data_preprocessing/master/hwk01.csv')\n",
        "\n",
        "numericalFeatures = data[data.columns[3:]] # remove redundant index column\n",
        "nominalFeatures = data[data.columns[1:3]]"
      ],
      "execution_count": 15,
      "outputs": []
    },
    {
      "cell_type": "markdown",
      "metadata": {
        "id": "bsuTGiW10NxY",
        "colab_type": "text"
      },
      "source": [
        "<h2>Mean</h2>"
      ]
    },
    {
      "cell_type": "code",
      "metadata": {
        "id": "n1ANcdb80Oba",
        "colab_type": "code",
        "colab": {}
      },
      "source": [
        "def bin_Means(data, depth):\n",
        "    data = data['F'] # Creates Series\n",
        "    data = data.sort_values()\n",
        "    \n",
        "    binValues, binEdges = pd.cut(data.array, bins = depth, \\\n",
        "                                 labels = range(1, depth + 1), retbins = True)\n",
        "        \n",
        "    print(\"The respective bin for each value of attribute: \\n\", set(binValues), \"\\n\")\n",
        "    print(\"Computed bins: \\n\", binEdges, \"\\n\")\n",
        "    \n",
        "    binnedValues = pd.DataFrame( \\\n",
        "                   list(zip(data, binValues)), columns = ['value', 'bin'])\n",
        "    binnedValuesMean = binnedValues.groupby(['bin']).mean()\n",
        "    print(\"Mean value for each value in bin: \\n\", binnedValuesMean, \"\\n\\n\")"
      ],
      "execution_count": 16,
      "outputs": []
    },
    {
      "cell_type": "markdown",
      "metadata": {
        "id": "e2K9jMUc_NFb",
        "colab_type": "text"
      },
      "source": [
        "<h4>Quartile example:</h4>"
      ]
    },
    {
      "cell_type": "code",
      "metadata": {
        "id": "o15-_eaT_NqL",
        "colab_type": "code",
        "colab": {
          "base_uri": "https://localhost:8080/",
          "height": 272
        },
        "outputId": "3f824ae1-b27f-4ddf-8329-d5ff080146ff"
      },
      "source": [
        "bin_Means(numericalFeatures, 4) # k = 4, 10, 50"
      ],
      "execution_count": 17,
      "outputs": [
        {
          "output_type": "stream",
          "text": [
            "The respective bin for each value of attribute: \n",
            " {1, 2, 3, 4} \n",
            "\n",
            "Computed bins: \n",
            " [ 0.99  3.5   6.    8.5  11.  ] \n",
            "\n",
            "Mean value for each value in bin: \n",
            "         value\n",
            "bin          \n",
            "1    2.014652\n",
            "2    5.033898\n",
            "3    7.473373\n",
            "4    9.969582 \n",
            "\n",
            "\n"
          ],
          "name": "stdout"
        }
      ]
    },
    {
      "cell_type": "markdown",
      "metadata": {
        "id": "e4zoSHNW0Xlm",
        "colab_type": "text"
      },
      "source": [
        "<h4>K = 100 example:</h4>"
      ]
    },
    {
      "cell_type": "code",
      "metadata": {
        "id": "9UoI6R5dAA5a",
        "colab_type": "code",
        "colab": {
          "base_uri": "https://localhost:8080/",
          "height": 527
        },
        "outputId": "22151cfb-5a31-4426-f353-d33119c0a3b5"
      },
      "source": [
        "bin_Means(numericalFeatures, 100)"
      ],
      "execution_count": 18,
      "outputs": [
        {
          "output_type": "stream",
          "text": [
            "The respective bin for each value of attribute: \n",
            " {1, 100, 70, 40, 10, 80, 50, 20, 90, 60, 30} \n",
            "\n",
            "Computed bins: \n",
            " [ 0.99  1.1   1.2   1.3   1.4   1.5   1.6   1.7   1.8   1.9   2.    2.1\n",
            "  2.2   2.3   2.4   2.5   2.6   2.7   2.8   2.9   3.    3.1   3.2   3.3\n",
            "  3.4   3.5   3.6   3.7   3.8   3.9   4.    4.1   4.2   4.3   4.4   4.5\n",
            "  4.6   4.7   4.8   4.9   5.    5.1   5.2   5.3   5.4   5.5   5.6   5.7\n",
            "  5.8   5.9   6.    6.1   6.2   6.3   6.4   6.5   6.6   6.7   6.8   6.9\n",
            "  7.    7.1   7.2   7.3   7.4   7.5   7.6   7.7   7.8   7.9   8.    8.1\n",
            "  8.2   8.3   8.4   8.5   8.6   8.7   8.8   8.9   9.    9.1   9.2   9.3\n",
            "  9.4   9.5   9.6   9.7   9.8   9.9  10.   10.1  10.2  10.3  10.4  10.5\n",
            " 10.6  10.7  10.8  10.9  11.  ] \n",
            "\n",
            "Mean value for each value in bin: \n",
            "      value\n",
            "bin       \n",
            "1        1\n",
            "10       2\n",
            "20       3\n",
            "30       4\n",
            "40       5\n",
            "50       6\n",
            "60       7\n",
            "70       8\n",
            "80       9\n",
            "90      10\n",
            "100     11 \n",
            "\n",
            "\n"
          ],
          "name": "stdout"
        }
      ]
    },
    {
      "cell_type": "markdown",
      "metadata": {
        "id": "hSpBshgHABfc",
        "colab_type": "text"
      },
      "source": [
        "<h2>Boundaries</h2>"
      ]
    },
    {
      "cell_type": "code",
      "metadata": {
        "id": "wVHbkuqM0VIh",
        "colab_type": "code",
        "colab": {}
      },
      "source": [
        "def bin_Boundaries(data, depth):\n",
        "    data = data['E']\n",
        "    data = data.sort_values()\n",
        "    \n",
        "    binValues, binEdges = pd.cut(data.array, bins = depth, \\\n",
        "                                 labels = range(1, depth + 1), retbins = True)\n",
        "    \n",
        "    print(\"The respective bin for each value of attribute: \\n\", set(binValues), \"\\n\")\n",
        "    print(\"The computed specified bins: \\n\", binEdges, \"\\n\")\n",
        "    \n",
        "    binnedValues = pd.DataFrame( \\\n",
        "                   list(zip(data, binValues)), columns = ['value', 'bin'])\n",
        "    \n",
        "    for index, observation in binnedValues.iterrows():\n",
        "        value = observation[0].tolist()\n",
        "        minDistance = 999999999\n",
        "        leastDistant = 0\n",
        "        \n",
        "        for edge in binEdges:\n",
        "            edge = edge.tolist()\n",
        "            distance = abs(edge - value)\n",
        "            if distance < minDistance:\n",
        "                leastDistant = edge\n",
        "                minDistance = distance\n",
        "                \n",
        "        # set value at dataframe\n",
        "        binnedValues.at[index, 'value'] = leastDistant\n",
        "        \n",
        "    print(binnedValues)"
      ],
      "execution_count": 19,
      "outputs": []
    },
    {
      "cell_type": "markdown",
      "metadata": {
        "id": "lrFuPj4OCiZh",
        "colab_type": "text"
      },
      "source": [
        "<h4>Quartile Example</h4>"
      ]
    },
    {
      "cell_type": "code",
      "metadata": {
        "id": "2D99FMIlCl-n",
        "colab_type": "code",
        "colab": {
          "base_uri": "https://localhost:8080/",
          "height": 357
        },
        "outputId": "c1704238-cbbc-4061-f910-3794bc144822"
      },
      "source": [
        "bin_Boundaries(numericalFeatures, 4)"
      ],
      "execution_count": 20,
      "outputs": [
        {
          "output_type": "stream",
          "text": [
            "The respective bin for each value of attribute: \n",
            " {1, 2, 3, 4} \n",
            "\n",
            "The computed specified bins: \n",
            " [-16.5662972    1.30530452  19.10570464  36.90610475  54.70650487] \n",
            "\n",
            "         value  bin\n",
            "0   -16.566297    1\n",
            "1   -16.566297    1\n",
            "2   -16.566297    1\n",
            "3   -16.566297    1\n",
            "4   -16.566297    1\n",
            "..         ...  ...\n",
            "995  36.906105    4\n",
            "996  36.906105    4\n",
            "997  36.906105    4\n",
            "998  36.906105    4\n",
            "999  54.706505    4\n",
            "\n",
            "[1000 rows x 2 columns]\n"
          ],
          "name": "stdout"
        }
      ]
    },
    {
      "cell_type": "markdown",
      "metadata": {
        "id": "1v5pEl04Cm6s",
        "colab_type": "text"
      },
      "source": [
        "<h4>K = 100</h4>"
      ]
    },
    {
      "cell_type": "code",
      "metadata": {
        "id": "tgZn0WK3CxPI",
        "colab_type": "code",
        "colab": {
          "base_uri": "https://localhost:8080/",
          "height": 717
        },
        "outputId": "9cbef7e4-4c8d-4c41-f1c4-8aa5ef4e5c4b"
      },
      "source": [
        "bin_Boundaries(numericalFeatures, 100)"
      ],
      "execution_count": 21,
      "outputs": [
        {
          "output_type": "stream",
          "text": [
            "The respective bin for each value of attribute: \n",
            " {1, 6, 8, 9, 10, 11, 12, 13, 14, 15, 16, 17, 18, 19, 20, 21, 22, 23, 24, 25, 26, 27, 28, 29, 30, 31, 32, 33, 34, 35, 36, 37, 38, 39, 40, 41, 42, 43, 44, 45, 46, 47, 48, 49, 50, 51, 52, 53, 54, 55, 56, 57, 58, 59, 60, 61, 62, 63, 64, 65, 66, 67, 68, 69, 70, 71, 72, 73, 74, 75, 77, 78, 79, 80, 81, 84, 85, 86, 100} \n",
            "\n",
            "The computed specified bins: \n",
            " [-16.5662972  -15.78307959 -15.07106359 -14.35904758 -13.64703158\n",
            " -12.93501558 -12.22299957 -11.51098357 -10.79896756 -10.08695156\n",
            "  -9.37493555  -8.66291955  -7.95090354  -7.23888754  -6.52687153\n",
            "  -5.81485553  -5.10283952  -4.39082352  -3.67880751  -2.96679151\n",
            "  -2.25477551  -1.5427595   -0.8307435   -0.11872749   0.59328851\n",
            "   1.30530452   2.01732052   2.72933653   3.44135253   4.15336854\n",
            "   4.86538454   5.57740055   6.28941655   7.00143256   7.71344856\n",
            "   8.42546457   9.13748057   9.84949657  10.56151258  11.27352858\n",
            "  11.98554459  12.69756059  13.4095766   14.1215926   14.83360861\n",
            "  15.54562461  16.25764062  16.96965662  17.68167263  18.39368863\n",
            "  19.10570464  19.81772064  20.52973664  21.24175265  21.95376865\n",
            "  22.66578466  23.37780066  24.08981667  24.80183267  25.51384868\n",
            "  26.22586468  26.93788069  27.64989669  28.3619127   29.0739287\n",
            "  29.78594471  30.49796071  31.20997672  31.92199272  32.63400872\n",
            "  33.34602473  34.05804073  34.77005674  35.48207274  36.19408875\n",
            "  36.90610475  37.61812076  38.33013676  39.04215277  39.75416877\n",
            "  40.46618478  41.17820078  41.89021679  42.60223279  43.31424879\n",
            "  44.0262648   44.7382808   45.45029681  46.16231281  46.87432882\n",
            "  47.58634482  48.29836083  49.01037683  49.72239284  50.43440884\n",
            "  51.14642485  51.85844085  52.57045686  53.28247286  53.99448887\n",
            "  54.70650487] \n",
            "\n",
            "         value  bin\n",
            "0   -16.566297    1\n",
            "1   -16.566297    1\n",
            "2   -12.935016    6\n",
            "3   -11.510984    8\n",
            "4   -10.798968    9\n",
            "..         ...  ...\n",
            "995  40.466185   81\n",
            "996  43.314249   84\n",
            "997  43.314249   85\n",
            "998  44.026265   86\n",
            "999  54.706505  100\n",
            "\n",
            "[1000 rows x 2 columns]\n"
          ],
          "name": "stdout"
        }
      ]
    },
    {
      "cell_type": "markdown",
      "metadata": {
        "id": "Ti84awoyC0Fu",
        "colab_type": "text"
      },
      "source": [
        "<h2>Median</h2>"
      ]
    },
    {
      "cell_type": "code",
      "metadata": {
        "id": "pNOMQ6zADGl9",
        "colab_type": "code",
        "colab": {}
      },
      "source": [
        "def bin_Medians(data, depth):\n",
        "    data = data['F'] # Creates Series\n",
        "    data = data.sort_values()\n",
        "    \n",
        "    binValues, binEdges = pd.cut(data.array, bins = depth, \\\n",
        "                labels = range(1, depth + 1), retbins = True)\n",
        "        \n",
        "    print(\"The respective bin for each value of attribute: \\n\", set(binValues), \"\\n\")\n",
        "    print(\"The computed specified bins: \\n\", binEdges, \"\\n\")\n",
        "    \n",
        "    binnedValues = pd.DataFrame( \\\n",
        "                   list(zip(data, binValues)), columns = ['value', 'bin'])\n",
        "    binnedValuesMedian = binnedValues.groupby(['bin']).median()\n",
        "    print(\"Median value for each value in bin: \\n\", binnedValuesMedian, \"\\n\\n\")"
      ],
      "execution_count": 22,
      "outputs": []
    },
    {
      "cell_type": "markdown",
      "metadata": {
        "id": "kdDud-CxDHTL",
        "colab_type": "text"
      },
      "source": [
        "<h4>Quartile Example</h4>"
      ]
    },
    {
      "cell_type": "code",
      "metadata": {
        "id": "6WJSg2Su0at8",
        "colab_type": "code",
        "colab": {
          "base_uri": "https://localhost:8080/",
          "height": 272
        },
        "outputId": "eba4b738-6841-486c-b28f-3dfebf6637e8"
      },
      "source": [
        "bin_Medians(numericalFeatures, 4)"
      ],
      "execution_count": 23,
      "outputs": [
        {
          "output_type": "stream",
          "text": [
            "The respective bin for each value of attribute: \n",
            " {1, 2, 3, 4} \n",
            "\n",
            "The computed specified bins: \n",
            " [ 0.99  3.5   6.    8.5  11.  ] \n",
            "\n",
            "Median value for each value in bin: \n",
            "      value\n",
            "bin       \n",
            "1        2\n",
            "2        5\n",
            "3        7\n",
            "4       10 \n",
            "\n",
            "\n"
          ],
          "name": "stdout"
        }
      ]
    },
    {
      "cell_type": "markdown",
      "metadata": {
        "id": "26xS2P7WDQg7",
        "colab_type": "text"
      },
      "source": [
        "<h4>K = 100</h4>"
      ]
    },
    {
      "cell_type": "code",
      "metadata": {
        "id": "vvkPFyeVDQ35",
        "colab_type": "code",
        "colab": {
          "base_uri": "https://localhost:8080/",
          "height": 527
        },
        "outputId": "cd115838-59f4-4f54-b646-a735844286a7"
      },
      "source": [
        "bin_Medians(numericalFeatures, 100)"
      ],
      "execution_count": 24,
      "outputs": [
        {
          "output_type": "stream",
          "text": [
            "The respective bin for each value of attribute: \n",
            " {1, 100, 70, 40, 10, 80, 50, 20, 90, 60, 30} \n",
            "\n",
            "The computed specified bins: \n",
            " [ 0.99  1.1   1.2   1.3   1.4   1.5   1.6   1.7   1.8   1.9   2.    2.1\n",
            "  2.2   2.3   2.4   2.5   2.6   2.7   2.8   2.9   3.    3.1   3.2   3.3\n",
            "  3.4   3.5   3.6   3.7   3.8   3.9   4.    4.1   4.2   4.3   4.4   4.5\n",
            "  4.6   4.7   4.8   4.9   5.    5.1   5.2   5.3   5.4   5.5   5.6   5.7\n",
            "  5.8   5.9   6.    6.1   6.2   6.3   6.4   6.5   6.6   6.7   6.8   6.9\n",
            "  7.    7.1   7.2   7.3   7.4   7.5   7.6   7.7   7.8   7.9   8.    8.1\n",
            "  8.2   8.3   8.4   8.5   8.6   8.7   8.8   8.9   9.    9.1   9.2   9.3\n",
            "  9.4   9.5   9.6   9.7   9.8   9.9  10.   10.1  10.2  10.3  10.4  10.5\n",
            " 10.6  10.7  10.8  10.9  11.  ] \n",
            "\n",
            "Median value for each value in bin: \n",
            "      value\n",
            "bin       \n",
            "1        1\n",
            "10       2\n",
            "20       3\n",
            "30       4\n",
            "40       5\n",
            "50       6\n",
            "60       7\n",
            "70       8\n",
            "80       9\n",
            "90      10\n",
            "100     11 \n",
            "\n",
            "\n"
          ],
          "name": "stdout"
        }
      ]
    },
    {
      "cell_type": "markdown",
      "metadata": {
        "id": "5LSKl-4W0dPK",
        "colab_type": "text"
      },
      "source": [
        "<h2>PCA Analysis</h2>"
      ]
    },
    {
      "cell_type": "code",
      "metadata": {
        "id": "Cun4y3pE0duI",
        "colab_type": "code",
        "colab": {
          "base_uri": "https://localhost:8080/",
          "height": 221
        },
        "outputId": "8ae85316-c81f-46ef-a88e-fb6209e78376"
      },
      "source": [
        "def pcaAnalysis(data, columnNames, p):\n",
        "    data = data[columnNames]\n",
        "    features = data.to_numpy()\n",
        "    \n",
        "    pca = PCA(n_components = p)\n",
        "    pca.fit(features)\n",
        "    \n",
        "    print('The amount of variance explained by each of the selected components: ')\n",
        "    print(pca.explained_variance_, '\\n\\n')\n",
        "    \n",
        "    print('The values corresponding to each of the selected components: ')\n",
        "    print(pca.singular_values_, '\\n')\n",
        "    print('The values are equal to the 2-norms of the %d variables' \\\n",
        "          ' in the lower-dimensional space.\\n\\n' % (p))\n",
        "        \n",
        "    print('Per Feature empirical mean, estimated from the training set:')\n",
        "    print(pca.mean_)\n",
        "\n",
        "pcaAnalysis(numericalFeatures, ['C', 'D', 'E', 'F'], 2)"
      ],
      "execution_count": 25,
      "outputs": [
        {
          "output_type": "stream",
          "text": [
            "The amount of variance explained by each of the selected components: \n",
            "[8.14588138e+06 1.00993681e+02] \n",
            "\n",
            "\n",
            "The values corresponding to each of the selected components: \n",
            "[90209.39807321   317.63609278] \n",
            "\n",
            "The values are equal to the 2-norms of the 2 variables in the lower-dimensional space.\n",
            "\n",
            "\n",
            "Per Feature empirical mean, estimated from the training set:\n",
            "[ 5.18466300e+03 -3.47685919e-02  1.54567458e+01  5.92000000e+00]\n"
          ],
          "name": "stdout"
        }
      ]
    },
    {
      "cell_type": "markdown",
      "metadata": {
        "id": "XakFZHzW0gs_",
        "colab_type": "text"
      },
      "source": [
        "<h2>Calculate the Correlation Coefficient and Covariance</h2>"
      ]
    },
    {
      "cell_type": "code",
      "metadata": {
        "id": "ZTo8SoUg0hJ7",
        "colab_type": "code",
        "colab": {
          "base_uri": "https://localhost:8080/",
          "height": 255
        },
        "outputId": "9c98e00d-deeb-4125-9d87-0e93d8c5ed6a"
      },
      "source": [
        "def calculate_correlation(data):\n",
        "    correlations, pValues = stats.spearmanr(data)\n",
        "    covariances = np.cov(data, rowvar = False)\n",
        "    labels = ['C', 'D', 'E', 'F']\n",
        "    \n",
        "    print('Correlation Coefficient matrix:')\n",
        "    print(pd.DataFrame(correlations, columns = labels, index = labels), '\\n')\n",
        "    \n",
        "    print('Covariance matrix: ')\n",
        "    print(pd.DataFrame(covariances, columns = labels, index = labels), '\\n')\n",
        "\n",
        "calculate_correlation(numericalFeatures)"
      ],
      "execution_count": 26,
      "outputs": [
        {
          "output_type": "stream",
          "text": [
            "Correlation Coefficient matrix:\n",
            "          C         D         E         F\n",
            "C  1.000000  0.020979 -0.026620  0.010777\n",
            "D  0.020979  1.000000 -0.048402  0.020705\n",
            "E -0.026620 -0.048402  1.000000 -0.020614\n",
            "F  0.010777  0.020705 -0.020614  1.000000 \n",
            "\n",
            "Covariance matrix: \n",
            "              C          D           E          F\n",
            "C  8.145881e+06  50.394126 -421.317880  99.650691\n",
            "D  5.039413e+01   1.003179   -0.600094   0.052369\n",
            "E -4.213179e+02  -0.600094  101.011341  -0.231262\n",
            "F  9.965069e+01   0.052369   -0.231262   9.747347 \n",
            "\n"
          ],
          "name": "stdout"
        }
      ]
    },
    {
      "cell_type": "markdown",
      "metadata": {
        "id": "kDzBJr310kj7",
        "colab_type": "text"
      },
      "source": [
        "<h2>Calculate Contingency Table and Chi-square</h2>\n"
      ]
    },
    {
      "cell_type": "code",
      "metadata": {
        "id": "UhDLfhcx0lf3",
        "colab_type": "code",
        "colab": {
          "base_uri": "https://localhost:8080/",
          "height": 323
        },
        "outputId": "a5ffa1df-a55f-416a-9890-23c0439e54bb"
      },
      "source": [
        "def construct_contingency_table(data):\n",
        "    contingency = pd.crosstab(data['A'], data['B'], normalize = True) \n",
        "    c, p, dof, expected = stats.chi2_contingency(contingency)\n",
        "    aLabels, bLabels = ['a1', 'a2', 'a3'], ['b1', 'b2']\n",
        "\n",
        "    print('Contingency Table of Normalized Observed Frequencies:\\n')\n",
        "    print(pd.DataFrame( \\\n",
        "          contingency, columns = bLabels, index = aLabels), '\\n\\n')\n",
        "    \n",
        "    print('Expected frequencies, based on marginal sums of the table: \\n')\n",
        "    print(pd.DataFrame(expected, columns = bLabels, index = aLabels), '\\n')\n",
        "    print('Chi-square test statistic: %.4lf' % (c))\n",
        "    print('P-value of test: %.4lf' % (p))\n",
        "    print('Degrees of Freedom: %d' % (dof))\n",
        "\n",
        "construct_contingency_table(nominalFeatures)"
      ],
      "execution_count": 27,
      "outputs": [
        {
          "output_type": "stream",
          "text": [
            "Contingency Table of Normalized Observed Frequencies:\n",
            "\n",
            "       b1     b2\n",
            "a1  0.174  0.132\n",
            "a2  0.170  0.151\n",
            "a3  0.247  0.126 \n",
            "\n",
            "\n",
            "Expected frequencies, based on marginal sums of the table: \n",
            "\n",
            "          b1        b2\n",
            "a1  0.180846  0.125154\n",
            "a2  0.189711  0.131289\n",
            "a3  0.220443  0.152557 \n",
            "\n",
            "Chi-square test statistic: 0.0135\n",
            "P-value of test: 0.9933\n",
            "Degrees of Freedom: 2\n"
          ],
          "name": "stdout"
        }
      ]
    }
  ]
}